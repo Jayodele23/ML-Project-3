{
 "cells": [
  {
   "cell_type": "markdown",
   "id": "2d33b3dc-f815-4c8c-a4d2-225b15652246",
   "metadata": {},
   "source": [
    "# Project 3 - How Many Upvotes\n",
    "### CS 5/7394 - Applied Machine Learning"
   ]
  },
  {
   "cell_type": "code",
   "execution_count": 1,
   "id": "41295c4b-bcf5-42b1-ba74-4d359a824728",
   "metadata": {},
   "outputs": [],
   "source": [
    "import pandas as pd\n",
    "import numpy as np\n",
    "import seaborn as sns\n",
    "import matplotlib.pyplot as plt"
   ]
  },
  {
   "cell_type": "code",
   "execution_count": 2,
   "id": "cbae7e52-d6e4-405d-8b15-1c94dd720ad5",
   "metadata": {},
   "outputs": [],
   "source": [
    "upvotes = pd.read_csv(\"C:/Users/Joshua Ayodele/Downloads/archive (6)/train_NIR5Yl1.csv\")\n",
    "housing = pd.read_csv(\"C:/Users/Joshua Ayodele/Downloads/archive (5)/WakeCountyHousing.csv\")"
   ]
  },
  {
   "cell_type": "code",
   "execution_count": 3,
   "id": "b9e18f40-83f0-4c58-af3b-0a116ef08bd1",
   "metadata": {},
   "outputs": [
    {
     "data": {
      "text/html": [
       "<div>\n",
       "<style scoped>\n",
       "    .dataframe tbody tr th:only-of-type {\n",
       "        vertical-align: middle;\n",
       "    }\n",
       "\n",
       "    .dataframe tbody tr th {\n",
       "        vertical-align: top;\n",
       "    }\n",
       "\n",
       "    .dataframe thead th {\n",
       "        text-align: right;\n",
       "    }\n",
       "</style>\n",
       "<table border=\"1\" class=\"dataframe\">\n",
       "  <thead>\n",
       "    <tr style=\"text-align: right;\">\n",
       "      <th></th>\n",
       "      <th>ID</th>\n",
       "      <th>Tag</th>\n",
       "      <th>Reputation</th>\n",
       "      <th>Answers</th>\n",
       "      <th>Username</th>\n",
       "      <th>Views</th>\n",
       "      <th>Upvotes</th>\n",
       "    </tr>\n",
       "  </thead>\n",
       "  <tbody>\n",
       "    <tr>\n",
       "      <th>0</th>\n",
       "      <td>52664</td>\n",
       "      <td>a</td>\n",
       "      <td>3942.0</td>\n",
       "      <td>2.0</td>\n",
       "      <td>155623</td>\n",
       "      <td>7855.0</td>\n",
       "      <td>42.0</td>\n",
       "    </tr>\n",
       "    <tr>\n",
       "      <th>1</th>\n",
       "      <td>327662</td>\n",
       "      <td>a</td>\n",
       "      <td>26046.0</td>\n",
       "      <td>12.0</td>\n",
       "      <td>21781</td>\n",
       "      <td>55801.0</td>\n",
       "      <td>1175.0</td>\n",
       "    </tr>\n",
       "    <tr>\n",
       "      <th>2</th>\n",
       "      <td>468453</td>\n",
       "      <td>c</td>\n",
       "      <td>1358.0</td>\n",
       "      <td>4.0</td>\n",
       "      <td>56177</td>\n",
       "      <td>8067.0</td>\n",
       "      <td>60.0</td>\n",
       "    </tr>\n",
       "    <tr>\n",
       "      <th>3</th>\n",
       "      <td>96996</td>\n",
       "      <td>a</td>\n",
       "      <td>264.0</td>\n",
       "      <td>3.0</td>\n",
       "      <td>168793</td>\n",
       "      <td>27064.0</td>\n",
       "      <td>9.0</td>\n",
       "    </tr>\n",
       "    <tr>\n",
       "      <th>4</th>\n",
       "      <td>131465</td>\n",
       "      <td>c</td>\n",
       "      <td>4271.0</td>\n",
       "      <td>4.0</td>\n",
       "      <td>112223</td>\n",
       "      <td>13986.0</td>\n",
       "      <td>83.0</td>\n",
       "    </tr>\n",
       "  </tbody>\n",
       "</table>\n",
       "</div>"
      ],
      "text/plain": [
       "       ID Tag  Reputation  Answers  Username    Views  Upvotes\n",
       "0   52664   a      3942.0      2.0    155623   7855.0     42.0\n",
       "1  327662   a     26046.0     12.0     21781  55801.0   1175.0\n",
       "2  468453   c      1358.0      4.0     56177   8067.0     60.0\n",
       "3   96996   a       264.0      3.0    168793  27064.0      9.0\n",
       "4  131465   c      4271.0      4.0    112223  13986.0     83.0"
      ]
     },
     "execution_count": 3,
     "metadata": {},
     "output_type": "execute_result"
    }
   ],
   "source": [
    "upvotes.head()"
   ]
  },
  {
   "cell_type": "code",
   "execution_count": 4,
   "id": "a9b6bac0-710f-4c3a-801d-6fb154782929",
   "metadata": {},
   "outputs": [
    {
     "data": {
      "text/html": [
       "<div>\n",
       "<style scoped>\n",
       "    .dataframe tbody tr th:only-of-type {\n",
       "        vertical-align: middle;\n",
       "    }\n",
       "\n",
       "    .dataframe tbody tr th {\n",
       "        vertical-align: top;\n",
       "    }\n",
       "\n",
       "    .dataframe thead th {\n",
       "        text-align: right;\n",
       "    }\n",
       "</style>\n",
       "<table border=\"1\" class=\"dataframe\">\n",
       "  <thead>\n",
       "    <tr style=\"text-align: right;\">\n",
       "      <th></th>\n",
       "      <th>ID</th>\n",
       "      <th>Reputation</th>\n",
       "      <th>Answers</th>\n",
       "      <th>Username</th>\n",
       "      <th>Views</th>\n",
       "      <th>Upvotes</th>\n",
       "    </tr>\n",
       "  </thead>\n",
       "  <tbody>\n",
       "    <tr>\n",
       "      <th>count</th>\n",
       "      <td>330045.000000</td>\n",
       "      <td>3.300450e+05</td>\n",
       "      <td>330045.000000</td>\n",
       "      <td>330045.000000</td>\n",
       "      <td>3.300450e+05</td>\n",
       "      <td>330045.000000</td>\n",
       "    </tr>\n",
       "    <tr>\n",
       "      <th>mean</th>\n",
       "      <td>235748.682789</td>\n",
       "      <td>7.773147e+03</td>\n",
       "      <td>3.917672</td>\n",
       "      <td>81442.888803</td>\n",
       "      <td>2.964507e+04</td>\n",
       "      <td>337.505358</td>\n",
       "    </tr>\n",
       "    <tr>\n",
       "      <th>std</th>\n",
       "      <td>136039.418471</td>\n",
       "      <td>2.706141e+04</td>\n",
       "      <td>3.579515</td>\n",
       "      <td>49215.100730</td>\n",
       "      <td>8.095646e+04</td>\n",
       "      <td>3592.441135</td>\n",
       "    </tr>\n",
       "    <tr>\n",
       "      <th>min</th>\n",
       "      <td>1.000000</td>\n",
       "      <td>0.000000e+00</td>\n",
       "      <td>0.000000</td>\n",
       "      <td>0.000000</td>\n",
       "      <td>9.000000e+00</td>\n",
       "      <td>0.000000</td>\n",
       "    </tr>\n",
       "    <tr>\n",
       "      <th>25%</th>\n",
       "      <td>117909.000000</td>\n",
       "      <td>2.820000e+02</td>\n",
       "      <td>2.000000</td>\n",
       "      <td>39808.000000</td>\n",
       "      <td>2.594000e+03</td>\n",
       "      <td>8.000000</td>\n",
       "    </tr>\n",
       "    <tr>\n",
       "      <th>50%</th>\n",
       "      <td>235699.000000</td>\n",
       "      <td>1.236000e+03</td>\n",
       "      <td>3.000000</td>\n",
       "      <td>79010.000000</td>\n",
       "      <td>8.954000e+03</td>\n",
       "      <td>28.000000</td>\n",
       "    </tr>\n",
       "    <tr>\n",
       "      <th>75%</th>\n",
       "      <td>353620.000000</td>\n",
       "      <td>5.118000e+03</td>\n",
       "      <td>5.000000</td>\n",
       "      <td>122559.000000</td>\n",
       "      <td>2.687000e+04</td>\n",
       "      <td>107.000000</td>\n",
       "    </tr>\n",
       "    <tr>\n",
       "      <th>max</th>\n",
       "      <td>471493.000000</td>\n",
       "      <td>1.042428e+06</td>\n",
       "      <td>76.000000</td>\n",
       "      <td>175738.000000</td>\n",
       "      <td>5.231058e+06</td>\n",
       "      <td>615278.000000</td>\n",
       "    </tr>\n",
       "  </tbody>\n",
       "</table>\n",
       "</div>"
      ],
      "text/plain": [
       "                  ID    Reputation        Answers       Username  \\\n",
       "count  330045.000000  3.300450e+05  330045.000000  330045.000000   \n",
       "mean   235748.682789  7.773147e+03       3.917672   81442.888803   \n",
       "std    136039.418471  2.706141e+04       3.579515   49215.100730   \n",
       "min         1.000000  0.000000e+00       0.000000       0.000000   \n",
       "25%    117909.000000  2.820000e+02       2.000000   39808.000000   \n",
       "50%    235699.000000  1.236000e+03       3.000000   79010.000000   \n",
       "75%    353620.000000  5.118000e+03       5.000000  122559.000000   \n",
       "max    471493.000000  1.042428e+06      76.000000  175738.000000   \n",
       "\n",
       "              Views        Upvotes  \n",
       "count  3.300450e+05  330045.000000  \n",
       "mean   2.964507e+04     337.505358  \n",
       "std    8.095646e+04    3592.441135  \n",
       "min    9.000000e+00       0.000000  \n",
       "25%    2.594000e+03       8.000000  \n",
       "50%    8.954000e+03      28.000000  \n",
       "75%    2.687000e+04     107.000000  \n",
       "max    5.231058e+06  615278.000000  "
      ]
     },
     "execution_count": 4,
     "metadata": {},
     "output_type": "execute_result"
    }
   ],
   "source": [
    "upvotes.describe()"
   ]
  },
  {
   "cell_type": "code",
   "execution_count": 5,
   "id": "a7f96c31-6955-4533-a7c4-5f5e8e154546",
   "metadata": {},
   "outputs": [
    {
     "name": "stdout",
     "output_type": "stream",
     "text": [
      "<class 'pandas.core.frame.DataFrame'>\n",
      "RangeIndex: 330045 entries, 0 to 330044\n",
      "Data columns (total 7 columns):\n",
      " #   Column      Non-Null Count   Dtype  \n",
      "---  ------      --------------   -----  \n",
      " 0   ID          330045 non-null  int64  \n",
      " 1   Tag         330045 non-null  object \n",
      " 2   Reputation  330045 non-null  float64\n",
      " 3   Answers     330045 non-null  float64\n",
      " 4   Username    330045 non-null  int64  \n",
      " 5   Views       330045 non-null  float64\n",
      " 6   Upvotes     330045 non-null  float64\n",
      "dtypes: float64(4), int64(2), object(1)\n",
      "memory usage: 17.6+ MB\n"
     ]
    }
   ],
   "source": [
    "upvotes.info()"
   ]
  },
  {
   "cell_type": "code",
   "execution_count": 6,
   "id": "83063a67-bc94-4cdd-b7cf-369cf5abc142",
   "metadata": {},
   "outputs": [
    {
     "data": {
      "text/plain": [
       "ID            False\n",
       "Tag           False\n",
       "Reputation    False\n",
       "Answers       False\n",
       "Username      False\n",
       "Views         False\n",
       "Upvotes       False\n",
       "dtype: bool"
      ]
     },
     "execution_count": 6,
     "metadata": {},
     "output_type": "execute_result"
    }
   ],
   "source": [
    "upvotes.isna().any()"
   ]
  },
  {
   "cell_type": "markdown",
   "id": "7b10ea6e-8ad7-4782-9376-76735c63a70e",
   "metadata": {
    "tags": []
   },
   "source": [
    "## 1. One Hot Encoder"
   ]
  },
  {
   "cell_type": "code",
   "execution_count": 7,
   "id": "229af7ce-19bd-4467-98ab-9d31ac929eb6",
   "metadata": {},
   "outputs": [],
   "source": [
    "#Performing one hot encoding on the tag variable due to it being categorical in nature\n",
    "#This will also help the ml algorithm understand the variable more\n",
    "upvotes = pd.get_dummies(upvotes, columns=[\"Tag\"], dtype=int)"
   ]
  },
  {
   "cell_type": "code",
   "execution_count": 8,
   "id": "efe60c28-bc1b-4e4d-ae3b-6d848c39a7db",
   "metadata": {},
   "outputs": [
    {
     "data": {
      "text/html": [
       "<div>\n",
       "<style scoped>\n",
       "    .dataframe tbody tr th:only-of-type {\n",
       "        vertical-align: middle;\n",
       "    }\n",
       "\n",
       "    .dataframe tbody tr th {\n",
       "        vertical-align: top;\n",
       "    }\n",
       "\n",
       "    .dataframe thead th {\n",
       "        text-align: right;\n",
       "    }\n",
       "</style>\n",
       "<table border=\"1\" class=\"dataframe\">\n",
       "  <thead>\n",
       "    <tr style=\"text-align: right;\">\n",
       "      <th></th>\n",
       "      <th>ID</th>\n",
       "      <th>Reputation</th>\n",
       "      <th>Answers</th>\n",
       "      <th>Username</th>\n",
       "      <th>Views</th>\n",
       "      <th>Upvotes</th>\n",
       "      <th>Tag_a</th>\n",
       "      <th>Tag_c</th>\n",
       "      <th>Tag_h</th>\n",
       "      <th>Tag_i</th>\n",
       "      <th>Tag_j</th>\n",
       "      <th>Tag_o</th>\n",
       "      <th>Tag_p</th>\n",
       "      <th>Tag_r</th>\n",
       "      <th>Tag_s</th>\n",
       "      <th>Tag_x</th>\n",
       "    </tr>\n",
       "  </thead>\n",
       "  <tbody>\n",
       "    <tr>\n",
       "      <th>0</th>\n",
       "      <td>52664</td>\n",
       "      <td>3942.0</td>\n",
       "      <td>2.0</td>\n",
       "      <td>155623</td>\n",
       "      <td>7855.0</td>\n",
       "      <td>42.0</td>\n",
       "      <td>1</td>\n",
       "      <td>0</td>\n",
       "      <td>0</td>\n",
       "      <td>0</td>\n",
       "      <td>0</td>\n",
       "      <td>0</td>\n",
       "      <td>0</td>\n",
       "      <td>0</td>\n",
       "      <td>0</td>\n",
       "      <td>0</td>\n",
       "    </tr>\n",
       "    <tr>\n",
       "      <th>1</th>\n",
       "      <td>327662</td>\n",
       "      <td>26046.0</td>\n",
       "      <td>12.0</td>\n",
       "      <td>21781</td>\n",
       "      <td>55801.0</td>\n",
       "      <td>1175.0</td>\n",
       "      <td>1</td>\n",
       "      <td>0</td>\n",
       "      <td>0</td>\n",
       "      <td>0</td>\n",
       "      <td>0</td>\n",
       "      <td>0</td>\n",
       "      <td>0</td>\n",
       "      <td>0</td>\n",
       "      <td>0</td>\n",
       "      <td>0</td>\n",
       "    </tr>\n",
       "    <tr>\n",
       "      <th>2</th>\n",
       "      <td>468453</td>\n",
       "      <td>1358.0</td>\n",
       "      <td>4.0</td>\n",
       "      <td>56177</td>\n",
       "      <td>8067.0</td>\n",
       "      <td>60.0</td>\n",
       "      <td>0</td>\n",
       "      <td>1</td>\n",
       "      <td>0</td>\n",
       "      <td>0</td>\n",
       "      <td>0</td>\n",
       "      <td>0</td>\n",
       "      <td>0</td>\n",
       "      <td>0</td>\n",
       "      <td>0</td>\n",
       "      <td>0</td>\n",
       "    </tr>\n",
       "    <tr>\n",
       "      <th>3</th>\n",
       "      <td>96996</td>\n",
       "      <td>264.0</td>\n",
       "      <td>3.0</td>\n",
       "      <td>168793</td>\n",
       "      <td>27064.0</td>\n",
       "      <td>9.0</td>\n",
       "      <td>1</td>\n",
       "      <td>0</td>\n",
       "      <td>0</td>\n",
       "      <td>0</td>\n",
       "      <td>0</td>\n",
       "      <td>0</td>\n",
       "      <td>0</td>\n",
       "      <td>0</td>\n",
       "      <td>0</td>\n",
       "      <td>0</td>\n",
       "    </tr>\n",
       "    <tr>\n",
       "      <th>4</th>\n",
       "      <td>131465</td>\n",
       "      <td>4271.0</td>\n",
       "      <td>4.0</td>\n",
       "      <td>112223</td>\n",
       "      <td>13986.0</td>\n",
       "      <td>83.0</td>\n",
       "      <td>0</td>\n",
       "      <td>1</td>\n",
       "      <td>0</td>\n",
       "      <td>0</td>\n",
       "      <td>0</td>\n",
       "      <td>0</td>\n",
       "      <td>0</td>\n",
       "      <td>0</td>\n",
       "      <td>0</td>\n",
       "      <td>0</td>\n",
       "    </tr>\n",
       "  </tbody>\n",
       "</table>\n",
       "</div>"
      ],
      "text/plain": [
       "       ID  Reputation  Answers  Username    Views  Upvotes  Tag_a  Tag_c  \\\n",
       "0   52664      3942.0      2.0    155623   7855.0     42.0      1      0   \n",
       "1  327662     26046.0     12.0     21781  55801.0   1175.0      1      0   \n",
       "2  468453      1358.0      4.0     56177   8067.0     60.0      0      1   \n",
       "3   96996       264.0      3.0    168793  27064.0      9.0      1      0   \n",
       "4  131465      4271.0      4.0    112223  13986.0     83.0      0      1   \n",
       "\n",
       "   Tag_h  Tag_i  Tag_j  Tag_o  Tag_p  Tag_r  Tag_s  Tag_x  \n",
       "0      0      0      0      0      0      0      0      0  \n",
       "1      0      0      0      0      0      0      0      0  \n",
       "2      0      0      0      0      0      0      0      0  \n",
       "3      0      0      0      0      0      0      0      0  \n",
       "4      0      0      0      0      0      0      0      0  "
      ]
     },
     "execution_count": 8,
     "metadata": {},
     "output_type": "execute_result"
    }
   ],
   "source": [
    "#Checking how the dataframe looks after performing the operation\n",
    "upvotes.head()"
   ]
  },
  {
   "cell_type": "code",
   "execution_count": 9,
   "id": "4e158e92-79d1-427c-a1ec-5dc5e54cc9fb",
   "metadata": {},
   "outputs": [
    {
     "name": "stdout",
     "output_type": "stream",
     "text": [
      "<class 'pandas.core.frame.DataFrame'>\n",
      "RangeIndex: 330045 entries, 0 to 330044\n",
      "Data columns (total 16 columns):\n",
      " #   Column      Non-Null Count   Dtype  \n",
      "---  ------      --------------   -----  \n",
      " 0   ID          330045 non-null  int64  \n",
      " 1   Reputation  330045 non-null  float64\n",
      " 2   Answers     330045 non-null  float64\n",
      " 3   Username    330045 non-null  int64  \n",
      " 4   Views       330045 non-null  float64\n",
      " 5   Upvotes     330045 non-null  float64\n",
      " 6   Tag_a       330045 non-null  int32  \n",
      " 7   Tag_c       330045 non-null  int32  \n",
      " 8   Tag_h       330045 non-null  int32  \n",
      " 9   Tag_i       330045 non-null  int32  \n",
      " 10  Tag_j       330045 non-null  int32  \n",
      " 11  Tag_o       330045 non-null  int32  \n",
      " 12  Tag_p       330045 non-null  int32  \n",
      " 13  Tag_r       330045 non-null  int32  \n",
      " 14  Tag_s       330045 non-null  int32  \n",
      " 15  Tag_x       330045 non-null  int32  \n",
      "dtypes: float64(4), int32(10), int64(2)\n",
      "memory usage: 27.7 MB\n"
     ]
    }
   ],
   "source": [
    "#Checking the dataypes for each variable\n",
    "upvotes.info()\n",
    "#As you can see, the datatype for tags after the one hot encoder operation is integer whcih is optimal for the regression/classifier models"
   ]
  },
  {
   "cell_type": "code",
   "execution_count": 10,
   "id": "2f573db9-410e-495a-a748-6c57eba5116c",
   "metadata": {},
   "outputs": [
    {
     "data": {
      "text/plain": [
       "Upvotes       1.000000\n",
       "Views         0.437336\n",
       "Reputation    0.266710\n",
       "Answers       0.202033\n",
       "Tag_j         0.029889\n",
       "Tag_p         0.007566\n",
       "ID            0.006328\n",
       "Tag_h         0.003388\n",
       "Tag_c        -0.001467\n",
       "Tag_a        -0.001909\n",
       "Tag_x        -0.007620\n",
       "Tag_s        -0.007712\n",
       "Username     -0.011970\n",
       "Tag_o        -0.013469\n",
       "Tag_r        -0.014241\n",
       "Tag_i        -0.020216\n",
       "Name: Upvotes, dtype: float64"
      ]
     },
     "execution_count": 10,
     "metadata": {},
     "output_type": "execute_result"
    }
   ],
   "source": [
    "#Checking to see what kind of correlation exists between upvotes and the other variables\n",
    "upvotes.corr()[\"Upvotes\"].sort_values(ascending=False)"
   ]
  },
  {
   "cell_type": "code",
   "execution_count": 11,
   "id": "8b863ea4-b520-4207-b4ce-e1556de4275a",
   "metadata": {
    "tags": []
   },
   "outputs": [
    {
     "data": {
      "text/plain": [
       "<AxesSubplot:xlabel='Username', ylabel='Upvotes'>"
      ]
     },
     "execution_count": 11,
     "metadata": {},
     "output_type": "execute_result"
    },
    {
     "data": {
      "image/png": "[encoded data removed]",
      "text/plain": [
       "<Figure size 432x288 with 1 Axes>"
      ]
     },
     "metadata": {
      "needs_background": "light"
     },
     "output_type": "display_data"
    }
   ],
   "source": [
    "upvotes.plot(kind=\"scatter\", x=\"Username\", y=\"Upvotes\")"
   ]
  },
  {
   "cell_type": "markdown",
   "id": "bf585b2a-883b-4057-90ef-540c86a64e18",
   "metadata": {},
   "source": [
    "## 2. Standardizing features via sklearn.preprocessing"
   ]
  },
  {
   "cell_type": "code",
   "execution_count": 12,
   "id": "2a05cc37-4ef3-4f0e-bf32-dba551bbb94e",
   "metadata": {},
   "outputs": [
    {
     "name": "stderr",
     "output_type": "stream",
     "text": [
      "C:\\Users\\JOSHUA~1\\AppData\\Local\\Temp/ipykernel_11316/2273625976.py:3: FutureWarning: In a future version of pandas all arguments of DataFrame.drop except for the argument 'labels' will be keyword-only\n",
      "  X = upvotes.drop(\"Upvotes\", 1)\n"
     ]
    }
   ],
   "source": [
    "from sklearn.preprocessing import StandardScaler\n",
    "Y = upvotes[[\"Upvotes\"]]\n",
    "X = upvotes.drop(\"Upvotes\", 1)\n",
    "scaler = StandardScaler()\n",
    "X = scaler.fit_transform(X)\n",
    "Y = scaler.fit_transform(Y)"
   ]
  },
  {
   "cell_type": "code",
   "execution_count": 13,
   "id": "8cc06c04-e7c5-4fb7-82a4-b50ef9e9bc45",
   "metadata": {},
   "outputs": [],
   "source": [
    "from sklearn.model_selection import train_test_split\n",
    "x_train, x_test, y_train, y_test = train_test_split(X, Y, test_size=0.2, random_state=42)"
   ]
  },
  {
   "cell_type": "markdown",
   "id": "0944d266-0d6a-4540-9804-03d7b78dd740",
   "metadata": {},
   "source": [
    "## 3. Using sklearn.linear_model.LinearRegression"
   ]
  },
  {
   "cell_type": "code",
   "execution_count": 14,
   "id": "bf87a43e-541c-4959-badc-3d931abf9008",
   "metadata": {},
   "outputs": [
    {
     "data": {
      "text/plain": [
       "LinearRegression()"
      ]
     },
     "execution_count": 14,
     "metadata": {},
     "output_type": "execute_result"
    }
   ],
   "source": [
    "from sklearn.linear_model import LinearRegression\n",
    "reg_lr = LinearRegression()\n",
    "reg_lr.fit(x_train, y_train)"
   ]
  },
  {
   "cell_type": "code",
   "execution_count": 15,
   "id": "84918820-a6ed-44ea-b4d5-f6b01e49dc39",
   "metadata": {},
   "outputs": [],
   "source": [
    "lin_pred = reg_lr.predict(x_test)"
   ]
  },
  {
   "cell_type": "markdown",
   "id": "9d6b1978-778a-4a4b-bd0f-88fbd4da2576",
   "metadata": {},
   "source": [
    "## 4. Using sklearn.metrics.mean_squared_error and sklearn.metrics.mean_absoluter_error"
   ]
  },
  {
   "cell_type": "code",
   "execution_count": 16,
   "id": "ea6843d8-4f8a-41c7-ad7c-1b666155de89",
   "metadata": {},
   "outputs": [
    {
     "data": {
      "text/plain": [
       "(0.16781388400996922,\n",
       " 0.9623393296195969,\n",
       " 0.9260969853326952,\n",
       " 0.2213216106412118)"
      ]
     },
     "execution_count": 16,
     "metadata": {},
     "output_type": "execute_result"
    }
   ],
   "source": [
    "from sklearn.metrics import mean_squared_error\n",
    "from sklearn.metrics import mean_absolute_error\n",
    "lin_mae = mean_absolute_error(y_test, lin_pred)\n",
    "lin_mse = mean_squared_error(y_test, lin_pred)\n",
    "lin_rmse = np.sqrt(lin_mse)\n",
    "score = reg_lr.score(x_test, y_test)\n",
    "lin_mae, lin_rmse, lin_mse, score"
   ]
  },
  {
   "cell_type": "markdown",
   "id": "b07e87f7-8eee-4ff6-b37a-c526f400fa1a",
   "metadata": {},
   "source": [
    "## 5. Using sklearn.tree.DecisionTreeRegressor"
   ]
  },
  {
   "cell_type": "code",
   "execution_count": 17,
   "id": "9ff73e84-8f59-4e48-9ac3-8eb230fa81af",
   "metadata": {},
   "outputs": [
    {
     "data": {
      "text/plain": [
       "DecisionTreeRegressor()"
      ]
     },
     "execution_count": 17,
     "metadata": {},
     "output_type": "execute_result"
    }
   ],
   "source": [
    "from sklearn.tree import DecisionTreeRegressor\n",
    "tree_reg = DecisionTreeRegressor()\n",
    "tree_reg.fit(x_train, y_train)"
   ]
  },
  {
   "cell_type": "code",
   "execution_count": 18,
   "id": "b03ff47e-2061-4c13-b070-b50e4daaddb7",
   "metadata": {},
   "outputs": [],
   "source": [
    "tree_pred = tree_reg.predict(x_test)"
   ]
  },
  {
   "cell_type": "code",
   "execution_count": 19,
   "id": "dc447fba-dc62-4f56-b9ad-db76a4ee87ef",
   "metadata": {},
   "outputs": [
    {
     "data": {
      "text/plain": [
       "(0.5166802330805871, 0.26695846325620975)"
      ]
     },
     "execution_count": 19,
     "metadata": {},
     "output_type": "execute_result"
    }
   ],
   "source": [
    "tree_mse = mean_squared_error(y_test, tree_pred)\n",
    "tree_rmse = np.sqrt(tree_mse)\n",
    "tree_rmse, tree_mse"
   ]
  },
  {
   "cell_type": "markdown",
   "id": "8f42ea18-35ea-4bc2-b780-0e5325e75a0d",
   "metadata": {
    "tags": []
   },
   "source": [
    "## 6. Using cross_val_score for DecisionTreeRegressor model"
   ]
  },
  {
   "cell_type": "code",
   "execution_count": 20,
   "id": "4e08adfe-83bc-49ec-8c7d-7f566053f514",
   "metadata": {},
   "outputs": [
    {
     "data": {
      "text/plain": [
       "(array([0.82140039, 0.77718647, 0.74749663, 0.75697801, 0.61548268]),\n",
       " 0.7437088350926357)"
      ]
     },
     "execution_count": 20,
     "metadata": {},
     "output_type": "execute_result"
    }
   ],
   "source": [
    "from sklearn.model_selection import cross_val_score\n",
    "score = cross_val_score(tree_reg, x_train, y_train)\n",
    "score, score.mean()"
   ]
  },
  {
   "cell_type": "markdown",
   "id": "d148f81b-aef8-43e8-b6c5-7205be3b08cc",
   "metadata": {
    "tags": []
   },
   "source": [
    "## 7. Using Grid Search CV"
   ]
  },
  {
   "cell_type": "code",
   "execution_count": 21,
   "id": "4a50c41c-d1d6-4793-b4dc-3ff6af2c2823",
   "metadata": {},
   "outputs": [
    {
     "data": {
      "text/plain": [
       "({'max_depth': 5,\n",
       "  'max_features': 'auto',\n",
       "  'max_leaf_nodes': None,\n",
       "  'min_samples_leaf': 1,\n",
       "  'min_weight_fraction_leaf': 0.1,\n",
       "  'splitter': 'best'},\n",
       " DecisionTreeRegressor(max_depth=5, max_features='auto',\n",
       "                       min_weight_fraction_leaf=0.1))"
      ]
     },
     "execution_count": 21,
     "metadata": {},
     "output_type": "execute_result"
    }
   ],
   "source": [
    "from sklearn.model_selection import GridSearchCV\n",
    "param_grid = {\"splitter\":[\"best\",\"random\"],\n",
    "            \"max_depth\" : [1,3,5],\n",
    "            \"min_samples_leaf\":[1,2,3],\n",
    "            \"min_weight_fraction_leaf\":[0.1,0.2,0.3],\n",
    "            \"max_features\":[\"auto\",None],\n",
    "            \"max_leaf_nodes\":[None,10] }\n",
    "grid = GridSearchCV(tree_reg, param_grid, cv=5, scoring='neg_mean_squared_error', return_train_score=True)\n",
    "grid.fit(x_train, y_train)\n",
    "grid.best_params_, grid.best_estimator_"
   ]
  },
  {
   "cell_type": "markdown",
   "id": "41f6d662-efb1-4da0-bbeb-425d72ba0bd9",
   "metadata": {
    "tags": []
   },
   "source": [
    "## 8. Using an Ensemble of Methods: GradientBoostingRegressor"
   ]
  },
  {
   "cell_type": "code",
   "execution_count": 22,
   "id": "5ea38e79-3cf3-4781-b937-dd3988fff332",
   "metadata": {},
   "outputs": [],
   "source": [
    "from sklearn.ensemble import GradientBoostingRegressor\n",
    "params = {\"n_estimators\": 4, \"max_depth\": 4, \"min_samples_split\": 5, \"learning_rate\": 0.01}\n",
    "grad_reg = GradientBoostingRegressor(**params)"
   ]
  },
  {
   "cell_type": "code",
   "execution_count": 23,
   "id": "ec0810a7-499a-42c8-b8b9-56b311054da9",
   "metadata": {},
   "outputs": [
    {
     "data": {
      "text/plain": [
       "GradientBoostingRegressor(learning_rate=0.01, max_depth=4, min_samples_split=5,\n",
       "                          n_estimators=4)"
      ]
     },
     "execution_count": 23,
     "metadata": {},
     "output_type": "execute_result"
    }
   ],
   "source": [
    "grad_reg.fit(x_train, y_train.ravel())"
   ]
  },
  {
   "cell_type": "code",
   "execution_count": 24,
   "id": "a61776e5-815d-4c48-8eb7-060af9801d98",
   "metadata": {},
   "outputs": [],
   "source": [
    "grad_pred = grad_reg.predict(x_test)"
   ]
  },
  {
   "cell_type": "code",
   "execution_count": 25,
   "id": "7ffc2e01-326f-40c1-9fdd-427915086b59",
   "metadata": {},
   "outputs": [
    {
     "data": {
      "text/plain": [
       "(1.0614411675121058, 1.1266573520894623)"
      ]
     },
     "execution_count": 25,
     "metadata": {},
     "output_type": "execute_result"
    }
   ],
   "source": [
    "grad_mse = mean_squared_error(y_test, grad_pred)\n",
    "grad_rmse = np.sqrt(grad_mse)\n",
    "grad_rmse, grad_mse"
   ]
  },
  {
   "cell_type": "code",
   "execution_count": null,
   "id": "ef9cb9c6-7fdf-407b-b9c8-aef716833bc6",
   "metadata": {},
   "outputs": [],
   "source": []
  },
  {
   "cell_type": "markdown",
   "id": "27491572-2186-41e0-9060-8228cd7f93e3",
   "metadata": {},
   "source": [
    "## 9. Full pipeline using DecisionTreeRegressor as the predictor model"
   ]
  },
  {
   "cell_type": "code",
   "execution_count": 26,
   "id": "cd37a753-60f0-49b8-8b3c-0d5e463755aa",
   "metadata": {},
   "outputs": [],
   "source": [
    "from sklearn.pipeline import Pipeline\n",
    "from sklearn.preprocessing import OneHotEncoder\n",
    "pipeline_tree = Pipeline([(\"scaler\", StandardScaler()),\n",
    "                          (\"Tree_regressor\", DecisionTreeRegressor())])"
   ]
  },
  {
   "cell_type": "code",
   "execution_count": 27,
   "id": "4e2668f4-84c7-40b6-8756-586c303f79b8",
   "metadata": {},
   "outputs": [
    {
     "data": {
      "text/plain": [
       "0.7503675156604324"
      ]
     },
     "execution_count": 27,
     "metadata": {},
     "output_type": "execute_result"
    }
   ],
   "source": [
    "tree_pipe = pipeline_tree.fit(x_train, y_train)\n",
    "tree_pipe.predict(x_test)\n",
    "tree_pipe.score(x_test, y_test)"
   ]
  }
 ],
 "metadata": {
  "kernelspec": {
   "display_name": "Python 3 (ipykernel)",
   "language": "python",
   "name": "python3"
  },
  "language_info": {
   "codemirror_mode": {
    "name": "ipython",
    "version": 3
   },
   "file_extension": ".py",
   "mimetype": "text/x-python",
   "name": "python",
   "nbconvert_exporter": "python",
   "pygments_lexer": "ipython3",
   "version": "3.9.7"
  }
 },
 "nbformat": 4,
 "nbformat_minor": 5
}
